{
 "cells": [
  {
   "cell_type": "code",
   "execution_count": 1,
   "id": "c0e5f194-ddf3-4b8d-a4d9-4e1f3091b0bb",
   "metadata": {},
   "outputs": [],
   "source": [
    "from PIL import Image\n",
    "import numpy as np\n",
    "import os\n",
    "import matplotlib.pyplot as plt\n",
    "import cv2"
   ]
  },
  {
   "cell_type": "code",
   "execution_count": 4,
   "id": "01bb60b0",
   "metadata": {},
   "outputs": [],
   "source": [
    "def process_images(src_directory, dest_directory, new_size=(512, 512)):\n",
    "    for root, dirs, files in os.walk(src_directory):\n",
    "        for file in files:\n",
    "            file_path = os.path.join(root, file)\n",
    "            img = Image.open(file_path)\n",
    "            \n",
    "            img = img.resize(new_size, Image.LANCZOS)\n",
    "            image = img.convert('RGB')\n",
    "            image_np = np.array(image)\n",
    "            green_channel_gray = image_np[:, :, 1]\n",
    "            clahe = cv2.createCLAHE(clipLimit=2.0, tileGridSize=(4, 4))\n",
    "            green_channel_clahe = clahe.apply(green_channel_gray)\n",
    "\n",
    "            output_image = Image.fromarray(green_channel_clahe)\n",
    "            output_file_name = os.path.splitext(file)[0] + '.png'\n",
    "            output_file_path = os.path.join(dest_directory, output_file_name)\n",
    "            output_image.save(output_file_path, 'PNG')\n",
    "\n",
    "src_image_paths = ['FGADR']\n",
    "dest_image_paths = ['FGADR_processed']\n",
    "\n",
    "for src_directory_path, dest_directory_path in zip(src_image_paths, dest_image_paths):\n",
    "    process_images(src_directory_path, dest_directory_path)\n"
   ]
  }
 ],
 "metadata": {
  "kernelspec": {
   "display_name": "Python 3 (ipykernel)",
   "language": "python",
   "name": "python3"
  },
  "language_info": {
   "codemirror_mode": {
    "name": "ipython",
    "version": 3
   },
   "file_extension": ".py",
   "mimetype": "text/x-python",
   "name": "python",
   "nbconvert_exporter": "python",
   "pygments_lexer": "ipython3",
   "version": "3.9.13"
  }
 },
 "nbformat": 4,
 "nbformat_minor": 5
}
